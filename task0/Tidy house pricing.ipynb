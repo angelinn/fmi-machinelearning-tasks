{
 "cells": [
  {
   "cell_type": "code",
   "execution_count": 46,
   "metadata": {},
   "outputs": [],
   "source": [
    "import sys\n",
    "\n",
    "import sklearn\n",
    "import pandas as pd\n",
    "import matplotlib as mpl\n",
    "import matplotlib.pyplot as plt\n",
    "import seaborn as sns\n",
    "%matplotlib inline\n",
    "\n",
    "pd.set_option('display.max_columns', None)"
   ]
  },
  {
   "cell_type": "code",
   "execution_count": 47,
   "metadata": {},
   "outputs": [],
   "source": [
    "# read the data\n",
    "\n",
    "train = pd.read_csv('data/train.csv', index_col=['Id'])\n",
    "test = pd.read_csv('data/test.csv', index_col=['Id'])"
   ]
  },
  {
   "cell_type": "code",
   "execution_count": 48,
   "metadata": {},
   "outputs": [
    {
     "ename": "TypeError",
     "evalue": "split_data() takes 1 positional argument but 2 were given",
     "output_type": "error",
     "traceback": [
      "\u001b[1;31m---------------------------------------------------------------------------\u001b[0m",
      "\u001b[1;31mTypeError\u001b[0m                                 Traceback (most recent call last)",
      "\u001b[1;32m<ipython-input-48-93baee014aa0>\u001b[0m in \u001b[0;36m<module>\u001b[1;34m()\u001b[0m\n\u001b[0;32m     13\u001b[0m                             random_state=4330)\n\u001b[0;32m     14\u001b[0m \u001b[1;33m\u001b[0m\u001b[0m\n\u001b[1;32m---> 15\u001b[1;33m \u001b[0mx_train\u001b[0m\u001b[1;33m,\u001b[0m \u001b[0mx_test\u001b[0m\u001b[1;33m,\u001b[0m \u001b[0my_train\u001b[0m\u001b[1;33m,\u001b[0m \u001b[0my_test\u001b[0m \u001b[1;33m=\u001b[0m \u001b[0msplit_data\u001b[0m\u001b[1;33m(\u001b[0m\u001b[0mtrain\u001b[0m\u001b[1;33m,\u001b[0m \u001b[1;34m'SalePrice'\u001b[0m\u001b[1;33m)\u001b[0m\u001b[1;33m\u001b[0m\u001b[0m\n\u001b[0m\u001b[0;32m     16\u001b[0m \u001b[1;33m\u001b[0m\u001b[0m\n\u001b[0;32m     17\u001b[0m \u001b[1;31m# Make sure correct data fell int the correct variables\u001b[0m\u001b[1;33m\u001b[0m\u001b[1;33m\u001b[0m\u001b[0m\n",
      "\u001b[1;31mTypeError\u001b[0m: split_data() takes 1 positional argument but 2 were given"
     ]
    }
   ],
   "source": [
    "from sklearn.model_selection import train_test_split\n",
    "\n",
    "def split_data_by(data, target):\n",
    "\n",
    "    # split the dataset to with and without labels\n",
    "    train_no_sale_price = data.drop(labels=[target], axis=1)\n",
    "    train_sale_price = data[target]\n",
    "\n",
    "    # split the train set to 70/30 train/test\n",
    "    return train_test_split(train_no_sale_price, \n",
    "                            train_sale_price, \n",
    "                            test_size=0.3, \n",
    "                            random_state=4330)\n",
    "\n",
    "x_train, x_test, y_train, y_test = split_data(train, 'SalePrice')\n",
    "\n",
    "# Make sure correct data fell int the correct variables\n",
    "for df in [x_train, x_test, y_train, y_test]:\n",
    "    print(df.shape)"
   ]
  },
  {
   "cell_type": "code",
   "execution_count": 49,
   "metadata": {},
   "outputs": [],
   "source": [
    "numeric_column_names = x_train.describe().columns\n",
    "x_train[numeric_column_names] = x_train[numeric_column_names].fillna(0)\n",
    "x_test[numeric_column_names] = x_test[numeric_column_names].fillna(0)"
   ]
  },
  {
   "cell_type": "code",
   "execution_count": 50,
   "metadata": {},
   "outputs": [],
   "source": [
    "from sklearn.preprocessing import LabelEncoder\n",
    "from sklearn.preprocessing import OneHotEncoder\n",
    "\n",
    "categorical_columns = train.dtypes[train.dtypes == 'object'].index\n",
    "train = train.fillna(\"\")"
   ]
  },
  {
   "cell_type": "code",
   "execution_count": 51,
   "metadata": {},
   "outputs": [],
   "source": [
    "def encode_categorical(data, columns, encoders):\n",
    "    data = data.fillna(\"\")\n",
    "    return pd.DataFrame({col: encoders[col].transform(data[col]) for col in columns},\n",
    "                        index = data.index)\n",
    "train_encoded = encode_categorical(train, categorical_columns, encoders)\n",
    "\n",
    "one_hot_encoder = OneHotEncoder().fit(train_encoded)\n",
    "one_hot_x_train = one_hot_encoder.transform(encode_categorical(x_train[categorical_columns], categorical_columns, encoders))\n",
    "one_hot_x_test = one_hot_encoder.transform(encode_categorical(x_test[categorical_columns], categorical_columns, encoders))"
   ]
  },
  {
   "cell_type": "code",
   "execution_count": 52,
   "metadata": {},
   "outputs": [],
   "source": [
    "new_x_train = pd.np.concatenate([one_hot_x_train.todense(), x_train[numeric_column_names]], axis=1)\n",
    "new_x_test = pd.np.concatenate([one_hot_x_test.todense(), x_test[numeric_column_names]], axis=1)"
   ]
  },
  {
   "cell_type": "code",
   "execution_count": 53,
   "metadata": {},
   "outputs": [
    {
     "name": "stdout",
     "output_type": "stream",
     "text": [
      "alpha: 0.01\n",
      "0.9374607177132871 0.848821474014292\n",
      "\n",
      "alpha: 0.1\n",
      "0.9364454642419521 0.8596282428267933\n",
      "\n",
      "alpha: 1\n",
      "0.9227360656014941 0.8824267159987822\n",
      "\n",
      "alpha: 10\n",
      "0.8933107135132801 0.8922404784820502\n",
      "\n",
      "alpha: 100\n",
      "0.8524424288746798 0.882169210027329\n",
      "\n"
     ]
    }
   ],
   "source": [
    "# regularization\n",
    "from sklearn.linear_model import Ridge\n",
    "\n",
    "alpha = [0.01, 0.1, 1, 10, 100]\n",
    "\n",
    "for a in alpha:\n",
    "    all_data_lr = Ridge(alpha = a).fit(new_x_train, y_train)\n",
    "    print('alpha:', a)\n",
    "    print(all_data_lr.score(new_x_train, y_train), all_data_lr.score(new_x_test, y_test))\n",
    "    print()"
   ]
  },
  {
   "cell_type": "code",
   "execution_count": 54,
   "metadata": {},
   "outputs": [
    {
     "data": {
      "text/plain": [
       "LotFrontage    259\n",
       "MasVnrArea       8\n",
       "GarageYrBlt     81\n",
       "dtype: int64"
      ]
     },
     "execution_count": 54,
     "metadata": {},
     "output_type": "execute_result"
    }
   ],
   "source": [
    "# let's fix null columns better\n",
    "# read the data\n",
    "\n",
    "train = pd.read_csv('data/train.csv', index_col=['Id'])\n",
    "\n",
    "nulls = train[numeric_column_names].isnull().sum()\n",
    "nulls[nulls > 0]"
   ]
  },
  {
   "cell_type": "code",
   "execution_count": 56,
   "metadata": {},
   "outputs": [
    {
     "name": "stdout",
     "output_type": "stream",
     "text": [
      "(1022, 79)\n",
      "(438, 79)\n",
      "(1022,)\n",
      "(438,)\n"
     ]
    }
   ],
   "source": [
    "# LotFrontage\n",
    "train = train[pd.notnull]\n",
    "x_train, x_test, y_train, y_test = split_data_by(train, 'LotFrontage')\n",
    "for df in [x_train, x_test, y_train, y_test]:\n",
    "    print(df.shape)"
   ]
  },
  {
   "cell_type": "code",
   "execution_count": 58,
   "metadata": {},
   "outputs": [
    {
     "name": "stdout",
     "output_type": "stream",
     "text": [
      "Index(['MSSubClass', 'LotArea', 'OverallQual', 'OverallCond', 'YearBuilt',\n",
      "       'YearRemodAdd', 'MasVnrArea', 'BsmtFinSF1', 'BsmtFinSF2', 'BsmtUnfSF',\n",
      "       'TotalBsmtSF', '1stFlrSF', '2ndFlrSF', 'LowQualFinSF', 'GrLivArea',\n",
      "       'BsmtFullBath', 'BsmtHalfBath', 'FullBath', 'HalfBath', 'BedroomAbvGr',\n",
      "       'KitchenAbvGr', 'TotRmsAbvGrd', 'Fireplaces', 'GarageYrBlt',\n",
      "       'GarageCars', 'GarageArea', 'WoodDeckSF', 'OpenPorchSF',\n",
      "       'EnclosedPorch', '3SsnPorch', 'ScreenPorch', 'PoolArea', 'MiscVal',\n",
      "       'MoSold', 'YrSold', 'SalePrice'],\n",
      "      dtype='object')\n"
     ]
    }
   ],
   "source": [
    "numeric_column_names = x_train.describe().columns\n",
    "print(numeric_column_names)"
   ]
  },
  {
   "cell_type": "code",
   "execution_count": 59,
   "metadata": {},
   "outputs": [
    {
     "name": "stdout",
     "output_type": "stream",
     "text": [
      "Id\n",
      "479      79.0\n",
      "1129     59.0\n",
      "385       NaN\n",
      "1123      NaN\n",
      "1217     68.0\n",
      "1426     80.0\n",
      "1419     71.0\n",
      "19       66.0\n",
      "245       NaN\n",
      "813      66.0\n",
      "1141     60.0\n",
      "483      50.0\n",
      "12       85.0\n",
      "1157     85.0\n",
      "526      62.0\n",
      "1440     80.0\n",
      "374      79.0\n",
      "375      65.0\n",
      "300      80.0\n",
      "181       NaN\n",
      "66       76.0\n",
      "471       NaN\n",
      "352       NaN\n",
      "443      52.0\n",
      "224      70.0\n",
      "718      80.0\n",
      "561       NaN\n",
      "96        NaN\n",
      "1377     52.0\n",
      "564      66.0\n",
      "        ...  \n",
      "651      65.0\n",
      "11       70.0\n",
      "191      70.0\n",
      "844      80.0\n",
      "1147      NaN\n",
      "501      21.0\n",
      "1111      NaN\n",
      "338      70.0\n",
      "1155      NaN\n",
      "235       NaN\n",
      "1398     51.0\n",
      "976       NaN\n",
      "1134     80.0\n",
      "225     103.0\n",
      "121       NaN\n",
      "974      95.0\n",
      "198     174.0\n",
      "649      70.0\n",
      "233      21.0\n",
      "289       NaN\n",
      "670      80.0\n",
      "717      60.0\n",
      "901       NaN\n",
      "272      73.0\n",
      "91       60.0\n",
      "648      85.0\n",
      "184      63.0\n",
      "800      60.0\n",
      "365       NaN\n",
      "1175     80.0\n",
      "Name: LotFrontage, Length: 438, dtype: float64\n"
     ]
    }
   ],
   "source": [
    "print(y_test)"
   ]
  },
  {
   "cell_type": "code",
   "execution_count": null,
   "metadata": {},
   "outputs": [],
   "source": []
  },
  {
   "cell_type": "code",
   "execution_count": null,
   "metadata": {},
   "outputs": [],
   "source": []
  }
 ],
 "metadata": {
  "kernelspec": {
   "display_name": "Python 3",
   "language": "python",
   "name": "python3"
  },
  "language_info": {
   "codemirror_mode": {
    "name": "ipython",
    "version": 3
   },
   "file_extension": ".py",
   "mimetype": "text/x-python",
   "name": "python",
   "nbconvert_exporter": "python",
   "pygments_lexer": "ipython3",
   "version": "3.6.4"
  }
 },
 "nbformat": 4,
 "nbformat_minor": 2
}
